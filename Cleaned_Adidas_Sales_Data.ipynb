{
 "cells": [
  {
   "cell_type": "code",
   "execution_count": 1,
   "id": "e26861f8",
   "metadata": {},
   "outputs": [],
   "source": [
    "# Data Cleaning Documentation for Adidas Sales Data\n",
    "\n",
    "## Introduction\n",
    "#This Jupyter Notebook documents the data cleaning process for the Adidas Sales Data used in a Sales Performance Analysis. The aim is to prepare the data for analysis, ensuring it is clean and formatted correctly.\n"
   ]
  },
  {
   "cell_type": "code",
   "execution_count": 2,
   "id": "0ff0b3df",
   "metadata": {},
   "outputs": [],
   "source": [
    "import pandas as pd\n",
    "\n",
    "inpPath = r\"C:\\Users\\ciana\\OneDrive\\Documents\\DCU\\Final Year\\MT412 - Professional Business Analytics\\Adidas_Sales_Data.csv\"\n",
    "inpDf = pd.read_csv(r\"C:\\Users\\ciana\\OneDrive\\Documents\\DCU\\Final Year\\MT412 - Professional Business Analytics\\Adidas_Sales_Data.csv\")\n",
    "\n"
   ]
  },
  {
   "cell_type": "code",
   "execution_count": 3,
   "id": "11843eac",
   "metadata": {},
   "outputs": [
    {
     "name": "stdout",
     "output_type": "stream",
     "text": [
      "<class 'pandas.core.frame.DataFrame'>\n",
      "RangeIndex: 9648 entries, 0 to 9647\n",
      "Data columns (total 14 columns):\n",
      " #   Column            Non-Null Count  Dtype  \n",
      "---  ------            --------------  -----  \n",
      " 0   Retailer          9648 non-null   object \n",
      " 1   Retailer ID       9648 non-null   int64  \n",
      " 2   Invoice Date      9648 non-null   object \n",
      " 3   Region            9648 non-null   object \n",
      " 4   State             9648 non-null   object \n",
      " 5   City              9648 non-null   object \n",
      " 6   Gender Type       9648 non-null   object \n",
      " 7   Product Category  9648 non-null   object \n",
      " 8   Price per Unit    9648 non-null   int64  \n",
      " 9   Units Sold        9648 non-null   int64  \n",
      " 10  Total Sales       9648 non-null   int64  \n",
      " 11  Operating Profit  9648 non-null   float64\n",
      " 12  Operating Margin  9648 non-null   float64\n",
      " 13  Sales Method      9648 non-null   object \n",
      "dtypes: float64(2), int64(4), object(8)\n",
      "memory usage: 1.0+ MB\n"
     ]
    },
    {
     "data": {
      "text/html": [
       "<div>\n",
       "<style scoped>\n",
       "    .dataframe tbody tr th:only-of-type {\n",
       "        vertical-align: middle;\n",
       "    }\n",
       "\n",
       "    .dataframe tbody tr th {\n",
       "        vertical-align: top;\n",
       "    }\n",
       "\n",
       "    .dataframe thead th {\n",
       "        text-align: right;\n",
       "    }\n",
       "</style>\n",
       "<table border=\"1\" class=\"dataframe\">\n",
       "  <thead>\n",
       "    <tr style=\"text-align: right;\">\n",
       "      <th></th>\n",
       "      <th>Retailer ID</th>\n",
       "      <th>Price per Unit</th>\n",
       "      <th>Units Sold</th>\n",
       "      <th>Total Sales</th>\n",
       "      <th>Operating Profit</th>\n",
       "      <th>Operating Margin</th>\n",
       "    </tr>\n",
       "  </thead>\n",
       "  <tbody>\n",
       "    <tr>\n",
       "      <th>count</th>\n",
       "      <td>9.648000e+03</td>\n",
       "      <td>9648.000000</td>\n",
       "      <td>9648.000000</td>\n",
       "      <td>9648.000000</td>\n",
       "      <td>9648.000000</td>\n",
       "      <td>9648.000000</td>\n",
       "    </tr>\n",
       "    <tr>\n",
       "      <th>mean</th>\n",
       "      <td>1.173850e+06</td>\n",
       "      <td>45.216625</td>\n",
       "      <td>256.930037</td>\n",
       "      <td>93273.437500</td>\n",
       "      <td>34425.244761</td>\n",
       "      <td>0.422991</td>\n",
       "    </tr>\n",
       "    <tr>\n",
       "      <th>std</th>\n",
       "      <td>2.636038e+04</td>\n",
       "      <td>14.705397</td>\n",
       "      <td>214.252030</td>\n",
       "      <td>141916.016727</td>\n",
       "      <td>54193.113713</td>\n",
       "      <td>0.097197</td>\n",
       "    </tr>\n",
       "    <tr>\n",
       "      <th>min</th>\n",
       "      <td>1.128299e+06</td>\n",
       "      <td>7.000000</td>\n",
       "      <td>0.000000</td>\n",
       "      <td>0.000000</td>\n",
       "      <td>0.000000</td>\n",
       "      <td>0.100000</td>\n",
       "    </tr>\n",
       "    <tr>\n",
       "      <th>25%</th>\n",
       "      <td>1.185732e+06</td>\n",
       "      <td>35.000000</td>\n",
       "      <td>106.000000</td>\n",
       "      <td>4254.500000</td>\n",
       "      <td>1921.752500</td>\n",
       "      <td>0.350000</td>\n",
       "    </tr>\n",
       "    <tr>\n",
       "      <th>50%</th>\n",
       "      <td>1.185732e+06</td>\n",
       "      <td>45.000000</td>\n",
       "      <td>176.000000</td>\n",
       "      <td>9576.000000</td>\n",
       "      <td>4371.420000</td>\n",
       "      <td>0.410000</td>\n",
       "    </tr>\n",
       "    <tr>\n",
       "      <th>75%</th>\n",
       "      <td>1.185732e+06</td>\n",
       "      <td>55.000000</td>\n",
       "      <td>350.000000</td>\n",
       "      <td>150000.000000</td>\n",
       "      <td>52062.500000</td>\n",
       "      <td>0.490000</td>\n",
       "    </tr>\n",
       "    <tr>\n",
       "      <th>max</th>\n",
       "      <td>1.197831e+06</td>\n",
       "      <td>110.000000</td>\n",
       "      <td>1275.000000</td>\n",
       "      <td>825000.000000</td>\n",
       "      <td>390000.000000</td>\n",
       "      <td>0.800000</td>\n",
       "    </tr>\n",
       "  </tbody>\n",
       "</table>\n",
       "</div>"
      ],
      "text/plain": [
       "        Retailer ID  Price per Unit   Units Sold    Total Sales  \\\n",
       "count  9.648000e+03     9648.000000  9648.000000    9648.000000   \n",
       "mean   1.173850e+06       45.216625   256.930037   93273.437500   \n",
       "std    2.636038e+04       14.705397   214.252030  141916.016727   \n",
       "min    1.128299e+06        7.000000     0.000000       0.000000   \n",
       "25%    1.185732e+06       35.000000   106.000000    4254.500000   \n",
       "50%    1.185732e+06       45.000000   176.000000    9576.000000   \n",
       "75%    1.185732e+06       55.000000   350.000000  150000.000000   \n",
       "max    1.197831e+06      110.000000  1275.000000  825000.000000   \n",
       "\n",
       "       Operating Profit  Operating Margin  \n",
       "count       9648.000000       9648.000000  \n",
       "mean       34425.244761          0.422991  \n",
       "std        54193.113713          0.097197  \n",
       "min            0.000000          0.100000  \n",
       "25%         1921.752500          0.350000  \n",
       "50%         4371.420000          0.410000  \n",
       "75%        52062.500000          0.490000  \n",
       "max       390000.000000          0.800000  "
      ]
     },
     "execution_count": 3,
     "metadata": {},
     "output_type": "execute_result"
    }
   ],
   "source": [
    "#Display the first few rows of the dataset and summary information\n",
    "inpDf.info()\n",
    "inpDf.describe()"
   ]
  },
  {
   "cell_type": "code",
   "execution_count": 4,
   "id": "30678792",
   "metadata": {},
   "outputs": [],
   "source": [
    "## Data Cleaning ##\n"
   ]
  },
  {
   "cell_type": "code",
   "execution_count": 5,
   "id": "d734c33e",
   "metadata": {},
   "outputs": [],
   "source": [
    "### Rename Columns\n",
    "\n",
    "# Rename columns to remove spaces and make names more concise\n",
    "inpDf.columns = ['Retailer', 'RetailerID', 'InvoiceDate', 'Region', 'StateName', 'City',\n",
    "                'GenderType', 'ProductCategory', 'PricePerUnit', 'UnitsSold',\n",
    "                'TotalSales', 'OperatingProfit', 'OperatingMargin', 'SalesMethod']\n"
   ]
  },
  {
   "cell_type": "code",
   "execution_count": 6,
   "id": "806bc41d",
   "metadata": {},
   "outputs": [],
   "source": [
    "### Check for Duplicates ###\n"
   ]
  },
  {
   "cell_type": "code",
   "execution_count": 7,
   "id": "61d9e95f",
   "metadata": {},
   "outputs": [
    {
     "data": {
      "text/plain": [
       "0"
      ]
     },
     "execution_count": 7,
     "metadata": {},
     "output_type": "execute_result"
    }
   ],
   "source": [
    "# Check for duplicates\n",
    "duplicate_rows = inpDf.duplicated().sum()\n",
    "duplicate_rows"
   ]
  },
  {
   "cell_type": "code",
   "execution_count": 8,
   "id": "9be9c0e2",
   "metadata": {},
   "outputs": [],
   "source": [
    "### Handle Zero Sales ###"
   ]
  },
  {
   "cell_type": "code",
   "execution_count": 9,
   "id": "fbc65ed3",
   "metadata": {},
   "outputs": [],
   "source": [
    "# Assuming zero sales are valid, no action is needed; otherwise, we could filter them out\n",
    "\n",
    "inpDf = inpDf[inpDf['TotalSales'] > 0]"
   ]
  },
  {
   "cell_type": "code",
   "execution_count": 10,
   "id": "96d0e560",
   "metadata": {},
   "outputs": [],
   "source": [
    "### Analyse and Treat Outliers ###\n",
    "\n",
    "price_99th = inpDf['PricePerUnit'].quantile(0.99)\n",
    "sales_99th = inpDf['TotalSales'].quantile(0.99)\n"
   ]
  },
  {
   "cell_type": "code",
   "execution_count": 11,
   "id": "765d3b5d",
   "metadata": {},
   "outputs": [],
   "source": [
    "inpDf['PricePerUnit'] = inpDf['PricePerUnit'].clip(upper=price_99th)\n",
    "inpDf['TotalSales'] = inpDf['TotalSales'].clip(upper=sales_99th)\n",
    "\n",
    "#The primary reason why I capped values at the 99th percentile is to reduce the impact of extreme values that can skew the analysis. These extreme values might be due to data entry errors, unusual transactions, or other anomalies."
   ]
  },
  {
   "cell_type": "code",
   "execution_count": 12,
   "id": "4b98f4fe",
   "metadata": {},
   "outputs": [
    {
     "name": "stdout",
     "output_type": "stream",
     "text": [
      "<class 'pandas.core.frame.DataFrame'>\n",
      "Int64Index: 9644 entries, 0 to 9647\n",
      "Data columns (total 14 columns):\n",
      " #   Column           Non-Null Count  Dtype  \n",
      "---  ------           --------------  -----  \n",
      " 0   Retailer         9644 non-null   object \n",
      " 1   RetailerID       9644 non-null   int64  \n",
      " 2   InvoiceDate      9644 non-null   object \n",
      " 3   Region           9644 non-null   object \n",
      " 4   StateName        9644 non-null   object \n",
      " 5   City             9644 non-null   object \n",
      " 6   GenderType       9644 non-null   object \n",
      " 7   ProductCategory  9644 non-null   object \n",
      " 8   PricePerUnit     9644 non-null   int64  \n",
      " 9   UnitsSold        9644 non-null   int64  \n",
      " 10  TotalSales       9644 non-null   int64  \n",
      " 11  OperatingProfit  9644 non-null   float64\n",
      " 12  OperatingMargin  9644 non-null   float64\n",
      " 13  SalesMethod      9644 non-null   object \n",
      "dtypes: float64(2), int64(4), object(8)\n",
      "memory usage: 1.1+ MB\n"
     ]
    },
    {
     "data": {
      "text/html": [
       "<div>\n",
       "<style scoped>\n",
       "    .dataframe tbody tr th:only-of-type {\n",
       "        vertical-align: middle;\n",
       "    }\n",
       "\n",
       "    .dataframe tbody tr th {\n",
       "        vertical-align: top;\n",
       "    }\n",
       "\n",
       "    .dataframe thead th {\n",
       "        text-align: right;\n",
       "    }\n",
       "</style>\n",
       "<table border=\"1\" class=\"dataframe\">\n",
       "  <thead>\n",
       "    <tr style=\"text-align: right;\">\n",
       "      <th></th>\n",
       "      <th>RetailerID</th>\n",
       "      <th>PricePerUnit</th>\n",
       "      <th>UnitsSold</th>\n",
       "      <th>TotalSales</th>\n",
       "      <th>OperatingProfit</th>\n",
       "      <th>OperatingMargin</th>\n",
       "    </tr>\n",
       "  </thead>\n",
       "  <tbody>\n",
       "    <tr>\n",
       "      <th>count</th>\n",
       "      <td>9.644000e+03</td>\n",
       "      <td>9644.000000</td>\n",
       "      <td>9644.000000</td>\n",
       "      <td>9644.000000</td>\n",
       "      <td>9644.000000</td>\n",
       "      <td>9644.000000</td>\n",
       "    </tr>\n",
       "    <tr>\n",
       "      <th>mean</th>\n",
       "      <td>1.173845e+06</td>\n",
       "      <td>45.150249</td>\n",
       "      <td>257.036603</td>\n",
       "      <td>92451.433534</td>\n",
       "      <td>34439.523170</td>\n",
       "      <td>0.422972</td>\n",
       "    </tr>\n",
       "    <tr>\n",
       "      <th>std</th>\n",
       "      <td>2.636473e+04</td>\n",
       "      <td>14.475615</td>\n",
       "      <td>214.232536</td>\n",
       "      <td>138504.603589</td>\n",
       "      <td>54199.815777</td>\n",
       "      <td>0.097202</td>\n",
       "    </tr>\n",
       "    <tr>\n",
       "      <th>min</th>\n",
       "      <td>1.128299e+06</td>\n",
       "      <td>7.000000</td>\n",
       "      <td>6.000000</td>\n",
       "      <td>160.000000</td>\n",
       "      <td>75.200000</td>\n",
       "      <td>0.100000</td>\n",
       "    </tr>\n",
       "    <tr>\n",
       "      <th>25%</th>\n",
       "      <td>1.185732e+06</td>\n",
       "      <td>35.000000</td>\n",
       "      <td>106.000000</td>\n",
       "      <td>4261.250000</td>\n",
       "      <td>1924.825000</td>\n",
       "      <td>0.350000</td>\n",
       "    </tr>\n",
       "    <tr>\n",
       "      <th>50%</th>\n",
       "      <td>1.185732e+06</td>\n",
       "      <td>45.000000</td>\n",
       "      <td>176.000000</td>\n",
       "      <td>9581.000000</td>\n",
       "      <td>4374.360000</td>\n",
       "      <td>0.410000</td>\n",
       "    </tr>\n",
       "    <tr>\n",
       "      <th>75%</th>\n",
       "      <td>1.185732e+06</td>\n",
       "      <td>55.000000</td>\n",
       "      <td>350.000000</td>\n",
       "      <td>150000.000000</td>\n",
       "      <td>52062.500000</td>\n",
       "      <td>0.490000</td>\n",
       "    </tr>\n",
       "    <tr>\n",
       "      <th>max</th>\n",
       "      <td>1.197831e+06</td>\n",
       "      <td>85.000000</td>\n",
       "      <td>1275.000000</td>\n",
       "      <td>585000.000000</td>\n",
       "      <td>390000.000000</td>\n",
       "      <td>0.800000</td>\n",
       "    </tr>\n",
       "  </tbody>\n",
       "</table>\n",
       "</div>"
      ],
      "text/plain": [
       "         RetailerID  PricePerUnit    UnitsSold     TotalSales  \\\n",
       "count  9.644000e+03   9644.000000  9644.000000    9644.000000   \n",
       "mean   1.173845e+06     45.150249   257.036603   92451.433534   \n",
       "std    2.636473e+04     14.475615   214.232536  138504.603589   \n",
       "min    1.128299e+06      7.000000     6.000000     160.000000   \n",
       "25%    1.185732e+06     35.000000   106.000000    4261.250000   \n",
       "50%    1.185732e+06     45.000000   176.000000    9581.000000   \n",
       "75%    1.185732e+06     55.000000   350.000000  150000.000000   \n",
       "max    1.197831e+06     85.000000  1275.000000  585000.000000   \n",
       "\n",
       "       OperatingProfit  OperatingMargin  \n",
       "count      9644.000000      9644.000000  \n",
       "mean      34439.523170         0.422972  \n",
       "std       54199.815777         0.097202  \n",
       "min          75.200000         0.100000  \n",
       "25%        1924.825000         0.350000  \n",
       "50%        4374.360000         0.410000  \n",
       "75%       52062.500000         0.490000  \n",
       "max      390000.000000         0.800000  "
      ]
     },
     "execution_count": 12,
     "metadata": {},
     "output_type": "execute_result"
    }
   ],
   "source": [
    "# Display the cleaned data structure\n",
    "inpDf.info()\n",
    "inpDf.describe()"
   ]
  },
  {
   "cell_type": "code",
   "execution_count": 13,
   "id": "ff72b1b9",
   "metadata": {},
   "outputs": [],
   "source": [
    "# Only four entries were removed after the cleaning process."
   ]
  },
  {
   "cell_type": "code",
   "execution_count": 14,
   "id": "158a085a",
   "metadata": {},
   "outputs": [],
   "source": [
    "## Exporting the Cleaned Data ##\n",
    "\n",
    "# Define the output path for the cleaned CSV file\n",
    "outPath = r\"C:\\Users\\ciana\\OneDrive\\Documents\\DCU\\Final Year\\MT412 - Professional Business Analytics\\Cleaned_Adidas_Sales_Data.csv\"\n",
    "\n",
    "# Export the cleaned DataFrame to a CSV file\n",
    "inpDf.to_csv(outPath, index=False)\n"
   ]
  },
  {
   "cell_type": "code",
   "execution_count": null,
   "id": "58716bc5",
   "metadata": {},
   "outputs": [],
   "source": []
  }
 ],
 "metadata": {
  "kernelspec": {
   "display_name": "Python 3 (ipykernel)",
   "language": "python",
   "name": "python3"
  },
  "language_info": {
   "codemirror_mode": {
    "name": "ipython",
    "version": 3
   },
   "file_extension": ".py",
   "mimetype": "text/x-python",
   "name": "python",
   "nbconvert_exporter": "python",
   "pygments_lexer": "ipython3",
   "version": "3.11.4"
  }
 },
 "nbformat": 4,
 "nbformat_minor": 5
}
